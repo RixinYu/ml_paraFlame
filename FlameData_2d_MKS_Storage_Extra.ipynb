{
 "cells": [
  {
   "cell_type": "code",
   "execution_count": 3,
   "id": "d8789ac0-8ab4-449a-8e21-7508ecf9bae6",
   "metadata": {},
   "outputs": [],
   "source": [
    "#!pip install pyfftw   # for fast fourier transform\n",
    "\n",
    "import sys\n",
    "#import site\n",
    "import os\n",
    "import numpy as np\n",
    "\n",
    "#sys.path.insert(1, site.USER_SITE)\n",
    "sys.path.insert(1, '/cephyr/users/rixin/Alvis/my_venv_pyfftw/lib/python3.11/site-packages')\n",
    "\n",
    "import pyfftw # for fast fourier transform\n",
    "# pyfftw.interfaces.cache.enable()\n",
    "fftw_num_threads = 6\n",
    "pyfftw.config.NUM_THREADS    = fftw_num_threads\n",
    "pyfftw.config.PLANNER_EFFORT = 'FFTW_MEASURE'\n",
    "\n",
    "import matplotlib.pyplot as plt\n",
    "\n",
    "from tqdm import tqdm   # to display a loop-progress-bar\n",
    "\n",
    "import scipy\n",
    "fftw_num_threads = 6\n",
    "#from scipy.ndimage.filters import gaussian_filter\n",
    "from scipy.optimize import fsolve\n",
    "import h5py"
   ]
  },
  {
   "cell_type": "code",
   "execution_count": 4,
   "id": "494e2248-20bb-4218-a931-532575ae7eb0",
   "metadata": {},
   "outputs": [],
   "source": [
    "#import pyfftw\n",
    "#!ls $HOME/my_venv_pyfftw/lib/python3.11/site-packages\n"
   ]
  },
  {
   "cell_type": "code",
   "execution_count": null,
   "id": "5ffa3f74-6df3-4324-8704-1a8d126474a8",
   "metadata": {},
   "outputs": [],
   "source": []
  },
  {
   "cell_type": "code",
   "execution_count": 10,
   "id": "1efccebc-9823-4bde-8e46-7f0ca11688eb",
   "metadata": {},
   "outputs": [],
   "source": [
    "\n",
    "class Siv2D():\n",
    "    def __init__(self,N,Lpi,dRatio,TotalSteps,PartialSteps):\n",
    "      self.Lpi=Lpi\n",
    "      self.N=N\n",
    "      self.dRatio=dRatio\n",
    "      self.TotalSteps=TotalSteps\n",
    "      self.PartialSteps=PartialSteps\n",
    "      self.L_all = 2*np.pi*Lpi\n",
    "      self.nx    = self.N\n",
    "      self.ny    = self.N\n",
    "      self.ny_half=self.ny//2 +1\n",
    "      kx = np.fft.fftfreq(self.nx, d=1./self.nx)*2*np.pi/self.L_all # this yeilds kx=[0,1,2,...,nx/2-1, -nx/2, -nx/2+1, ...,-2,-1]\n",
    "      kx = kx.reshape(-1,1)\n",
    "      ky = np.fft.fftfreq(self.ny, d=1./self.ny)*2*np.pi/self.L_all # first: ky = [0,1,2,...,ny/2-1, -ny/2, -ny/2+1, ...,-2,-1]\n",
    "      ky = ky[:self.ny_half]\n",
    "      k2 = ky**2 + kx**2\n",
    "      k2[0,0] = 1E-15     # to avoid divide-by-zero\n",
    "      sqk2=np.sqrt(k2)\n",
    "      sqk2[0,0] = 1E-15\n",
    "      kx_ = np.copy(kx)  # kx.shape=(nx, 1)\n",
    "      kx_[0,0]=1E-9\n",
    "      ky_ = np.copy(ky)  # ky.shape=(   ny)\n",
    "      ky_[0]=1E-9\n",
    "      self.kx = kx  # kx.shape=(nx, 1)\n",
    "      self.ky = ky\n",
    "      self.k2 = k2  # k2.shape=(nx,ny)\n",
    "      self.sqk2=sqk2# same shape as k2\n",
    "      self.kx_=kx_\n",
    "      self.ky_=ky_\n",
    "      self.tmp   = pyfftw.empty_aligned( (self.nx,self.ny),          dtype='float64' )\n",
    "      self.tmpHat= pyfftw.empty_aligned( (self.nx,self.ny_half),     dtype='complex128')\n",
    "      self.rFFTW      = pyfftw.FFTW( self.tmp,    self.tmpHat,     threads=fftw_num_threads,                             axes=(-2,-1))\n",
    "      self.irFFTW     = pyfftw.FFTW( self.tmpHat, self.tmp,        threads=fftw_num_threads, direction='FFTW_BACKWARD',  axes=(-2,-1))\n",
    "      return\n",
    "    @staticmethod\n",
    "    def Coeff_Lpi_d_to_mu_nu_tau(Lpi, d_ratio, max_amplitude=0.25):\n",
    "        #-----------------------------\n",
    "        def d_to_mu_nu(d_ratio, max_amplitude=0.25):\n",
    "            #--------------------\n",
    "            def func_SivaEq_Coeff_Relations(arg, d_ratio, max_amplitude=0.25 ):\n",
    "                mu, k_star = arg\n",
    "                nu = mu - d_ratio\n",
    "                unk = np.zeros(2)\n",
    "                unk[0]= 4*mu*k_star**3 - 2*nu*k_star - d_ratio\n",
    "                unk[1]= mu*k_star**4 - nu*k_star**2 - d_ratio * k_star  + max_amplitude\n",
    "                return unk\n",
    "            #------------------\n",
    "            func = lambda arg : func_SivaEq_Coeff_Relations(arg, d_ratio, max_amplitude  )\n",
    "            root = fsolve(func, [4, 0.6]) # the starting value '4' may affect the result seraching\n",
    "            mu = root[0]\n",
    "            nu = mu-d_ratio\n",
    "            return mu, nu\n",
    "        #-----------------\n",
    "        mu,nu = d_to_mu_nu(d_ratio, max_amplitude )\n",
    "        tau = (Lpi/10*d_ratio) + (1-d_ratio)\n",
    "        return mu,nu, tau\n",
    "    def get_Phi_2(self,phixHat, phiyHat):#\n",
    "      #super().__init__(N, self.Lpi)\n",
    "      PhiXHat=np.zeros((self.nx,self.ny_half),dtype='complex128')\n",
    "      PhiYHat=np.zeros((self.nx,self.ny_half),dtype='complex128')\n",
    "\n",
    "      PhiXHat[:,:] = phixHat #1j*kx *phiHat\n",
    "      PhiYHat[:,:] = phiyHat #1j*ky *phiHat\n",
    "      # PhiXHat[:,:] = 1j*kx *phiHat\n",
    "      # PhiYHat[:,:] = 1j*ky *phiHat\n",
    "\n",
    "      PhiX = np.zeros( (self.nx, self.ny) , dtype ='float64')\n",
    "      PhiY = np.zeros( (self.nx, self.ny) , dtype ='float64')\n",
    "      PhiX[:,:] = self.irFFTW(PhiXHat)\n",
    "      PhiY[:,:] = self.irFFTW(PhiYHat)\n",
    "\n",
    "      Phi_2 = np.zeros( (self.nx, self.ny) , dtype ='float64')\n",
    "      Phi_2[:,:] = PhiX*PhiX+PhiY*PhiY\n",
    "      Phi2Hat=np.zeros((self.nx,self.ny_half),dtype='complex128')\n",
    "      Phi2Hat=self.rFFTW(Phi_2)\n",
    "      return Phi2Hat\n",
    "\n",
    "    def Solution_Time_Advancement(self, PhiHat0, TotalSteps,mu,nu,tau,dRatio, dStepOutput=1, CFL=1.5):\n",
    "       dt = CFL* (self.L_all/self.N) / 10\n",
    "       dt=dt*tau\n",
    "       phiHat_sols = np.zeros( (TotalSteps, self.nx, self.ny_half), dtype = 'complex128')\n",
    "       phiHat_sols[0,:,:] = PhiHat0\n",
    "       phiHat = PhiHat0\n",
    "       phixHat = np.zeros( (self.nx,self.ny_half), dtype ='complex128' )\n",
    "       phixHat[:,:] = phiHat*1j*self.kx\n",
    "       phiyHat = np.zeros( (self.nx, self.ny_half), dtype ='complex128' )\n",
    "       phiyHat[:,:] = phiHat*1j*self.ky\n",
    "\n",
    "       Lambda_k = mu*(self.kx**4+2*self.kx**2 *self.ky**2+self.ky**4)-nu*self.k2-dRatio*self.sqk2\n",
    "       #Lambda_k = -nu*self.k2-dRatio*self.sqk2\n",
    "       E =  np.exp( -dt/2 * Lambda_k )\n",
    "       E2 = E**2\n",
    "       gX=1j*dt*self.kx\n",
    "       gY=1j*dt*self.ky\n",
    "       AA=np.zeros( (self.nx, self.ny_half), dtype ='complex128' )\n",
    "       BB=np.zeros( (self.nx, self.ny_half), dtype ='complex128' )\n",
    "       CC=np.zeros( (self.nx, self.ny_half), dtype ='complex128' )\n",
    "       DD=np.zeros( (self.nx, self.ny_half), dtype ='complex128' )\n",
    "       aX=np.zeros( (self.nx, self.ny_half), dtype ='complex128' )\n",
    "       bX=np.zeros( (self.nx, self.ny_half), dtype ='complex128' )\n",
    "       cX=np.zeros( (self.nx, self.ny_half), dtype ='complex128' )\n",
    "       dX=np.zeros( (self.nx, self.ny_half), dtype ='complex128' )\n",
    "       aY=np.zeros( (self.nx, self.ny_half), dtype ='complex128' )\n",
    "       bY=np.zeros( (self.nx, self.ny_half), dtype ='complex128' )\n",
    "       cY=np.zeros( (self.nx, self.ny_half), dtype ='complex128' )\n",
    "       dY=np.zeros( (self.nx, self.ny_half), dtype ='complex128' )\n",
    "       with tqdm( range(1, TotalSteps) ) as pbar:\n",
    "         for i in pbar:  # tqdm is to display a looping-progress bar\n",
    "          for j in range(dStepOutput):\n",
    "            AA=self.get_Phi_2(phixHat,phiyHat)\n",
    "            aX=gX*AA\n",
    "            aY=gY*AA\n",
    "            BB=self.get_Phi_2(E*(phixHat+aX/2),E*(phiyHat+aY/2))\n",
    "            bX=gX*BB\n",
    "            bY=gY*BB\n",
    "            CC=self.get_Phi_2(E*(phixHat+bX/2),E*(phiyHat+bY/2))\n",
    "            cX=gX*CC\n",
    "            cY=gY*CC\n",
    "            DD=self.get_Phi_2(E2*(phixHat)+E*cX,E2*(phiyHat)+E*cY)\n",
    "            dX=gX*DD\n",
    "            dY=gY*DD\n",
    "            phixHat[:,:]=E2*phixHat+(E2*aX+2*E*(bX+cX)+dX)/6\n",
    "            phiyHat[:,:]=E2*phiyHat+(E2*aY+2*E*(bY+cY)+dY)/6\n",
    "            phiHat = (phixHat/1j/self.kx_ + phiyHat/1j/self.ky_)/2\n",
    "            phiHat[0,0]=0\n",
    "            phixHat = phiHat*1j*self.kx\n",
    "            phiyHat = phiHat*1j*self.ky\n",
    "              \n",
    "          phiHat_sols[i,:,:] = phiHat\n",
    "       print(' \\n\\n DNS solution has been advanced for a total of {}*{} time steps with a dt size of {}[s]'.format(TotalSteps, dStepOutput, dt ) )\n",
    "       return phiHat_sols\n",
    "#    def InitialCondition(self,level=0.0001,sigmaR=30):\n",
    "#        '''\n",
    "#            return a normlized stream-function which gives 'u_rms = 1'\n",
    "#        '''\n",
    "#        #self.__init__\n",
    "#        sigma=self.N/sigmaR\n",
    "#        RandArray=np.random.random((self.nx,self.ny))\n",
    "#        RandArray=gaussian_filter(RandArray, sigma=sigma,mode='wrap')\n",
    "#        RandArrayMaxValue=np.max(np.abs(RandArray))\n",
    "#        RandArray=RandArray*level/RandArrayMaxValue\n",
    "#        phi_hat0=self.rFFTW(RandArray)\n",
    "#        return phi_hat0\n",
    "\n",
    "\n",
    "    def RandFourier2D(self,k_trun=8,sys_info = None):\n",
    "      #np.random.seed(42)\n",
    "      scale=0.2\n",
    "      k_trun=k_trun/self.Lpi\n",
    "      theta=np.random.random((self.nx,self.ny_half))*np.pi*2\n",
    "      d_hat=scale*N/2*np.random.random((self.nx,self.ny_half))* ( np.cos(theta) +  1j *np.sin(theta)  )\n",
    "      d_hat[self.sqk2>k_trun]=0\n",
    "      d_hat[0,0]=0\n",
    "      #d0= scipy.fft.irfft2(d_hat)\n",
    "      #d0=self.irFFTW(d_hat)\n",
    "      return d_hat\n",
    "\n",
    "\n",
    "    def WholeSolver(self,k_trun):\n",
    "      mu,nu,tau=self.Coeff_Lpi_d_to_mu_nu_tau(self.Lpi,self.dRatio)\n",
    "      #PhiHat0=self.InitialCondition()\n",
    "      PhiHat0=self.RandFourier2D(k_trun)\n",
    "      \n",
    "      PhiHatSols=self.Solution_Time_Advancement(PhiHat0,self.TotalSteps,mu,nu,tau,self.dRatio,self.PartialSteps )\n",
    "      return PhiHatSols\n"
   ]
  },
  {
   "cell_type": "code",
   "execution_count": 13,
   "id": "05e3264c-68c4-4526-b53a-4baa63ab1835",
   "metadata": {},
   "outputs": [
    {
     "name": "stdout",
     "output_type": "stream",
     "text": [
      "25\n",
      "/mimer/NOBACKUP/groups/ml_flame_storage/ml_2dflame_extra/database128/beta025\n",
      "/mimer/NOBACKUP/groups/ml_flame_storage/ml_2dflame_extra/database128/beta025/dRat1.00\n"
     ]
    },
    {
     "name": "stderr",
     "output_type": "stream",
     "text": [
      "100%|██████████| 7999/7999 [02:01<00:00, 65.62it/s]\n"
     ]
    },
    {
     "name": "stdout",
     "output_type": "stream",
     "text": [
      " \n",
      "\n",
      " DNS solution has been advanced for a total of 8000*2 time steps with a dt size of 0.23009711818284617[s]\n"
     ]
    },
    {
     "name": "stderr",
     "output_type": "stream",
     "text": [
      "8000it [00:01, 4123.54it/s]\n"
     ]
    },
    {
     "name": "stdout",
     "output_type": "stream",
     "text": [
      "created Data for beta=  025 dRatio= 1.00 WaveCutOff=  8 Run00.npy\n"
     ]
    },
    {
     "name": "stderr",
     "output_type": "stream",
     "text": [
      "100%|██████████| 7999/7999 [02:01<00:00, 65.82it/s]\n"
     ]
    },
    {
     "name": "stdout",
     "output_type": "stream",
     "text": [
      " \n",
      "\n",
      " DNS solution has been advanced for a total of 8000*2 time steps with a dt size of 0.23009711818284617[s]\n"
     ]
    },
    {
     "name": "stderr",
     "output_type": "stream",
     "text": [
      "8000it [00:01, 4556.19it/s]\n"
     ]
    },
    {
     "name": "stdout",
     "output_type": "stream",
     "text": [
      "created Data for beta=  025 dRatio= 1.00 WaveCutOff=  8 Run01.npy\n"
     ]
    },
    {
     "name": "stderr",
     "output_type": "stream",
     "text": [
      "100%|██████████| 7999/7999 [02:01<00:00, 65.60it/s]\n"
     ]
    },
    {
     "name": "stdout",
     "output_type": "stream",
     "text": [
      " \n",
      "\n",
      " DNS solution has been advanced for a total of 8000*2 time steps with a dt size of 0.23009711818284617[s]\n"
     ]
    },
    {
     "name": "stderr",
     "output_type": "stream",
     "text": [
      "8000it [00:01, 4304.91it/s]\n"
     ]
    },
    {
     "name": "stdout",
     "output_type": "stream",
     "text": [
      "created Data for beta=  025 dRatio= 1.00 WaveCutOff=  8 Run02.npy\n"
     ]
    },
    {
     "name": "stderr",
     "output_type": "stream",
     "text": [
      "100%|██████████| 7999/7999 [02:02<00:00, 65.42it/s]\n"
     ]
    },
    {
     "name": "stdout",
     "output_type": "stream",
     "text": [
      " \n",
      "\n",
      " DNS solution has been advanced for a total of 8000*2 time steps with a dt size of 0.23009711818284617[s]\n"
     ]
    },
    {
     "name": "stderr",
     "output_type": "stream",
     "text": [
      "8000it [00:01, 4373.52it/s]\n"
     ]
    },
    {
     "name": "stdout",
     "output_type": "stream",
     "text": [
      "created Data for beta=  025 dRatio= 1.00 WaveCutOff=  8 Run03.npy\n"
     ]
    },
    {
     "name": "stderr",
     "output_type": "stream",
     "text": [
      "100%|██████████| 7999/7999 [02:00<00:00, 66.21it/s]\n"
     ]
    },
    {
     "name": "stdout",
     "output_type": "stream",
     "text": [
      " \n",
      "\n",
      " DNS solution has been advanced for a total of 8000*2 time steps with a dt size of 0.23009711818284617[s]\n"
     ]
    },
    {
     "name": "stderr",
     "output_type": "stream",
     "text": [
      "8000it [00:01, 4408.66it/s]\n"
     ]
    },
    {
     "name": "stdout",
     "output_type": "stream",
     "text": [
      "created Data for beta=  025 dRatio= 1.00 WaveCutOff=  8 Run04.npy\n"
     ]
    },
    {
     "name": "stderr",
     "output_type": "stream",
     "text": [
      "100%|██████████| 7999/7999 [02:02<00:00, 65.32it/s]\n"
     ]
    },
    {
     "name": "stdout",
     "output_type": "stream",
     "text": [
      " \n",
      "\n",
      " DNS solution has been advanced for a total of 8000*2 time steps with a dt size of 0.23009711818284617[s]\n"
     ]
    },
    {
     "name": "stderr",
     "output_type": "stream",
     "text": [
      "8000it [00:01, 4122.18it/s]\n"
     ]
    },
    {
     "name": "stdout",
     "output_type": "stream",
     "text": [
      "created Data for beta=  025 dRatio= 1.00 WaveCutOff=  8 Run05.npy\n"
     ]
    },
    {
     "name": "stderr",
     "output_type": "stream",
     "text": [
      "100%|██████████| 7999/7999 [02:03<00:00, 64.69it/s]\n"
     ]
    },
    {
     "name": "stdout",
     "output_type": "stream",
     "text": [
      " \n",
      "\n",
      " DNS solution has been advanced for a total of 8000*2 time steps with a dt size of 0.23009711818284617[s]\n"
     ]
    },
    {
     "name": "stderr",
     "output_type": "stream",
     "text": [
      "8000it [00:01, 4490.90it/s]\n"
     ]
    },
    {
     "name": "stdout",
     "output_type": "stream",
     "text": [
      "created Data for beta=  025 dRatio= 1.00 WaveCutOff=  8 Run06.npy\n"
     ]
    },
    {
     "name": "stderr",
     "output_type": "stream",
     "text": [
      "100%|██████████| 7999/7999 [02:00<00:00, 66.46it/s]\n"
     ]
    },
    {
     "name": "stdout",
     "output_type": "stream",
     "text": [
      " \n",
      "\n",
      " DNS solution has been advanced for a total of 8000*2 time steps with a dt size of 0.23009711818284617[s]\n"
     ]
    },
    {
     "name": "stderr",
     "output_type": "stream",
     "text": [
      "8000it [00:01, 4587.73it/s]\n"
     ]
    },
    {
     "name": "stdout",
     "output_type": "stream",
     "text": [
      "created Data for beta=  025 dRatio= 1.00 WaveCutOff=  8 Run07.npy\n"
     ]
    },
    {
     "name": "stderr",
     "output_type": "stream",
     "text": [
      "100%|██████████| 7999/7999 [02:00<00:00, 66.35it/s]\n"
     ]
    },
    {
     "name": "stdout",
     "output_type": "stream",
     "text": [
      " \n",
      "\n",
      " DNS solution has been advanced for a total of 8000*2 time steps with a dt size of 0.23009711818284617[s]\n"
     ]
    },
    {
     "name": "stderr",
     "output_type": "stream",
     "text": [
      "8000it [00:01, 4156.25it/s]\n"
     ]
    },
    {
     "name": "stdout",
     "output_type": "stream",
     "text": [
      "created Data for beta=  025 dRatio= 1.00 WaveCutOff=  8 Run08.npy\n"
     ]
    },
    {
     "name": "stderr",
     "output_type": "stream",
     "text": [
      "100%|██████████| 7999/7999 [02:03<00:00, 64.67it/s]\n"
     ]
    },
    {
     "name": "stdout",
     "output_type": "stream",
     "text": [
      " \n",
      "\n",
      " DNS solution has been advanced for a total of 8000*2 time steps with a dt size of 0.23009711818284617[s]\n"
     ]
    },
    {
     "name": "stderr",
     "output_type": "stream",
     "text": [
      "8000it [00:01, 4565.28it/s]\n"
     ]
    },
    {
     "name": "stdout",
     "output_type": "stream",
     "text": [
      "created Data for beta=  025 dRatio= 1.00 WaveCutOff=  8 Run09.npy\n"
     ]
    },
    {
     "name": "stderr",
     "output_type": "stream",
     "text": [
      "100%|██████████| 7999/7999 [02:02<00:00, 65.52it/s]\n"
     ]
    },
    {
     "name": "stdout",
     "output_type": "stream",
     "text": [
      " \n",
      "\n",
      " DNS solution has been advanced for a total of 8000*2 time steps with a dt size of 0.23009711818284617[s]\n"
     ]
    },
    {
     "name": "stderr",
     "output_type": "stream",
     "text": [
      "8000it [00:01, 4151.70it/s]\n"
     ]
    },
    {
     "name": "stdout",
     "output_type": "stream",
     "text": [
      "created Data for beta=  025 dRatio= 1.00 WaveCutOff=  8 Run10.npy\n"
     ]
    },
    {
     "name": "stderr",
     "output_type": "stream",
     "text": [
      "100%|██████████| 7999/7999 [01:59<00:00, 66.89it/s]\n"
     ]
    },
    {
     "name": "stdout",
     "output_type": "stream",
     "text": [
      " \n",
      "\n",
      " DNS solution has been advanced for a total of 8000*2 time steps with a dt size of 0.23009711818284617[s]\n"
     ]
    },
    {
     "name": "stderr",
     "output_type": "stream",
     "text": [
      "8000it [00:01, 4605.03it/s]\n"
     ]
    },
    {
     "name": "stdout",
     "output_type": "stream",
     "text": [
      "created Data for beta=  025 dRatio= 1.00 WaveCutOff=  8 Run11.npy\n"
     ]
    },
    {
     "name": "stderr",
     "output_type": "stream",
     "text": [
      "100%|██████████| 7999/7999 [02:09<00:00, 61.93it/s]\n"
     ]
    },
    {
     "name": "stdout",
     "output_type": "stream",
     "text": [
      " \n",
      "\n",
      " DNS solution has been advanced for a total of 8000*2 time steps with a dt size of 0.23009711818284617[s]\n"
     ]
    },
    {
     "name": "stderr",
     "output_type": "stream",
     "text": [
      "8000it [00:02, 3980.93it/s]\n"
     ]
    },
    {
     "name": "stdout",
     "output_type": "stream",
     "text": [
      "created Data for beta=  025 dRatio= 1.00 WaveCutOff=  8 Run12.npy\n"
     ]
    },
    {
     "name": "stderr",
     "output_type": "stream",
     "text": [
      "100%|██████████| 7999/7999 [02:08<00:00, 62.40it/s]\n"
     ]
    },
    {
     "name": "stdout",
     "output_type": "stream",
     "text": [
      " \n",
      "\n",
      " DNS solution has been advanced for a total of 8000*2 time steps with a dt size of 0.23009711818284617[s]\n"
     ]
    },
    {
     "name": "stderr",
     "output_type": "stream",
     "text": [
      "8000it [00:02, 3891.16it/s]\n"
     ]
    },
    {
     "name": "stdout",
     "output_type": "stream",
     "text": [
      "created Data for beta=  025 dRatio= 1.00 WaveCutOff=  8 Run13.npy\n"
     ]
    },
    {
     "name": "stderr",
     "output_type": "stream",
     "text": [
      "100%|██████████| 7999/7999 [02:05<00:00, 63.95it/s]\n"
     ]
    },
    {
     "name": "stdout",
     "output_type": "stream",
     "text": [
      " \n",
      "\n",
      " DNS solution has been advanced for a total of 8000*2 time steps with a dt size of 0.23009711818284617[s]\n"
     ]
    },
    {
     "name": "stderr",
     "output_type": "stream",
     "text": [
      "8000it [00:02, 3943.10it/s]\n"
     ]
    },
    {
     "name": "stdout",
     "output_type": "stream",
     "text": [
      "created Data for beta=  025 dRatio= 1.00 WaveCutOff=  8 Run14.npy\n"
     ]
    },
    {
     "name": "stderr",
     "output_type": "stream",
     "text": [
      "100%|██████████| 7999/7999 [02:01<00:00, 65.77it/s]\n"
     ]
    },
    {
     "name": "stdout",
     "output_type": "stream",
     "text": [
      " \n",
      "\n",
      " DNS solution has been advanced for a total of 8000*2 time steps with a dt size of 0.23009711818284617[s]\n"
     ]
    },
    {
     "name": "stderr",
     "output_type": "stream",
     "text": [
      "8000it [00:01, 4309.59it/s]\n"
     ]
    },
    {
     "name": "stdout",
     "output_type": "stream",
     "text": [
      "created Data for beta=  025 dRatio= 1.00 WaveCutOff=  8 Run15.npy\n"
     ]
    },
    {
     "name": "stderr",
     "output_type": "stream",
     "text": [
      "100%|██████████| 7999/7999 [02:04<00:00, 64.10it/s]\n"
     ]
    },
    {
     "name": "stdout",
     "output_type": "stream",
     "text": [
      " \n",
      "\n",
      " DNS solution has been advanced for a total of 8000*2 time steps with a dt size of 0.23009711818284617[s]\n"
     ]
    },
    {
     "name": "stderr",
     "output_type": "stream",
     "text": [
      "8000it [00:01, 4227.16it/s]\n"
     ]
    },
    {
     "name": "stdout",
     "output_type": "stream",
     "text": [
      "created Data for beta=  025 dRatio= 1.00 WaveCutOff=  8 Run16.npy\n"
     ]
    },
    {
     "name": "stderr",
     "output_type": "stream",
     "text": [
      "100%|██████████| 7999/7999 [02:04<00:00, 64.29it/s]\n"
     ]
    },
    {
     "name": "stdout",
     "output_type": "stream",
     "text": [
      " \n",
      "\n",
      " DNS solution has been advanced for a total of 8000*2 time steps with a dt size of 0.23009711818284617[s]\n"
     ]
    },
    {
     "name": "stderr",
     "output_type": "stream",
     "text": [
      "8000it [00:01, 4068.59it/s]\n"
     ]
    },
    {
     "name": "stdout",
     "output_type": "stream",
     "text": [
      "created Data for beta=  025 dRatio= 1.00 WaveCutOff=  8 Run17.npy\n"
     ]
    },
    {
     "name": "stderr",
     "output_type": "stream",
     "text": [
      "100%|██████████| 7999/7999 [02:02<00:00, 65.27it/s]\n"
     ]
    },
    {
     "name": "stdout",
     "output_type": "stream",
     "text": [
      " \n",
      "\n",
      " DNS solution has been advanced for a total of 8000*2 time steps with a dt size of 0.23009711818284617[s]\n"
     ]
    },
    {
     "name": "stderr",
     "output_type": "stream",
     "text": [
      "8000it [00:01, 4297.43it/s]\n"
     ]
    },
    {
     "name": "stdout",
     "output_type": "stream",
     "text": [
      "created Data for beta=  025 dRatio= 1.00 WaveCutOff=  8 Run18.npy\n"
     ]
    },
    {
     "name": "stderr",
     "output_type": "stream",
     "text": [
      "100%|██████████| 7999/7999 [02:02<00:00, 65.55it/s]\n"
     ]
    },
    {
     "name": "stdout",
     "output_type": "stream",
     "text": [
      " \n",
      "\n",
      " DNS solution has been advanced for a total of 8000*2 time steps with a dt size of 0.23009711818284617[s]\n"
     ]
    },
    {
     "name": "stderr",
     "output_type": "stream",
     "text": [
      "8000it [00:01, 4207.47it/s]\n"
     ]
    },
    {
     "name": "stdout",
     "output_type": "stream",
     "text": [
      "created Data for beta=  025 dRatio= 1.00 WaveCutOff=  8 Run19.npy\n"
     ]
    },
    {
     "name": "stderr",
     "output_type": "stream",
     "text": [
      "100%|██████████| 7999/7999 [02:02<00:00, 65.46it/s]\n"
     ]
    },
    {
     "name": "stdout",
     "output_type": "stream",
     "text": [
      " \n",
      "\n",
      " DNS solution has been advanced for a total of 8000*2 time steps with a dt size of 0.23009711818284617[s]\n"
     ]
    },
    {
     "name": "stderr",
     "output_type": "stream",
     "text": [
      "8000it [00:01, 4105.34it/s]\n"
     ]
    },
    {
     "name": "stdout",
     "output_type": "stream",
     "text": [
      "created Data for beta=  025 dRatio= 1.00 WaveCutOff=  8 Run20.npy\n"
     ]
    },
    {
     "name": "stderr",
     "output_type": "stream",
     "text": [
      "100%|██████████| 7999/7999 [02:01<00:00, 65.60it/s]\n"
     ]
    },
    {
     "name": "stdout",
     "output_type": "stream",
     "text": [
      " \n",
      "\n",
      " DNS solution has been advanced for a total of 8000*2 time steps with a dt size of 0.23009711818284617[s]\n"
     ]
    },
    {
     "name": "stderr",
     "output_type": "stream",
     "text": [
      "8000it [00:01, 4397.47it/s]\n"
     ]
    },
    {
     "name": "stdout",
     "output_type": "stream",
     "text": [
      "created Data for beta=  025 dRatio= 1.00 WaveCutOff=  8 Run21.npy\n"
     ]
    },
    {
     "name": "stderr",
     "output_type": "stream",
     "text": [
      "100%|██████████| 7999/7999 [02:01<00:00, 65.77it/s]\n"
     ]
    },
    {
     "name": "stdout",
     "output_type": "stream",
     "text": [
      " \n",
      "\n",
      " DNS solution has been advanced for a total of 8000*2 time steps with a dt size of 0.23009711818284617[s]\n"
     ]
    },
    {
     "name": "stderr",
     "output_type": "stream",
     "text": [
      "8000it [00:01, 4356.25it/s]\n"
     ]
    },
    {
     "name": "stdout",
     "output_type": "stream",
     "text": [
      "created Data for beta=  025 dRatio= 1.00 WaveCutOff=  8 Run22.npy\n"
     ]
    },
    {
     "name": "stderr",
     "output_type": "stream",
     "text": [
      "100%|██████████| 7999/7999 [01:59<00:00, 66.87it/s]\n"
     ]
    },
    {
     "name": "stdout",
     "output_type": "stream",
     "text": [
      " \n",
      "\n",
      " DNS solution has been advanced for a total of 8000*2 time steps with a dt size of 0.23009711818284617[s]\n"
     ]
    },
    {
     "name": "stderr",
     "output_type": "stream",
     "text": [
      "8000it [00:01, 4420.91it/s]\n"
     ]
    },
    {
     "name": "stdout",
     "output_type": "stream",
     "text": [
      "created Data for beta=  025 dRatio= 1.00 WaveCutOff=  8 Run23.npy\n"
     ]
    },
    {
     "name": "stderr",
     "output_type": "stream",
     "text": [
      "100%|██████████| 7999/7999 [01:59<00:00, 67.06it/s]\n"
     ]
    },
    {
     "name": "stdout",
     "output_type": "stream",
     "text": [
      " \n",
      "\n",
      " DNS solution has been advanced for a total of 8000*2 time steps with a dt size of 0.23009711818284617[s]\n"
     ]
    },
    {
     "name": "stderr",
     "output_type": "stream",
     "text": [
      "8000it [00:01, 4111.90it/s]\n"
     ]
    },
    {
     "name": "stdout",
     "output_type": "stream",
     "text": [
      "created Data for beta=  025 dRatio= 1.00 WaveCutOff=  8 Run24.npy\n"
     ]
    },
    {
     "name": "stderr",
     "output_type": "stream",
     "text": [
      "100%|██████████| 7999/7999 [02:00<00:00, 66.53it/s]\n"
     ]
    },
    {
     "name": "stdout",
     "output_type": "stream",
     "text": [
      " \n",
      "\n",
      " DNS solution has been advanced for a total of 8000*2 time steps with a dt size of 0.23009711818284617[s]\n"
     ]
    },
    {
     "name": "stderr",
     "output_type": "stream",
     "text": [
      "8000it [00:01, 4418.20it/s]\n"
     ]
    },
    {
     "name": "stdout",
     "output_type": "stream",
     "text": [
      "created Data for beta=  025 dRatio= 1.00 WaveCutOff=  8 Run25.npy\n"
     ]
    },
    {
     "name": "stderr",
     "output_type": "stream",
     "text": [
      "100%|██████████| 7999/7999 [01:57<00:00, 68.22it/s]\n"
     ]
    },
    {
     "name": "stdout",
     "output_type": "stream",
     "text": [
      " \n",
      "\n",
      " DNS solution has been advanced for a total of 8000*2 time steps with a dt size of 0.23009711818284617[s]\n"
     ]
    },
    {
     "name": "stderr",
     "output_type": "stream",
     "text": [
      "8000it [00:01, 4155.94it/s]\n"
     ]
    },
    {
     "name": "stdout",
     "output_type": "stream",
     "text": [
      "created Data for beta=  025 dRatio= 1.00 WaveCutOff=  8 Run26.npy\n"
     ]
    },
    {
     "name": "stderr",
     "output_type": "stream",
     "text": [
      "100%|██████████| 7999/7999 [02:04<00:00, 64.22it/s]\n"
     ]
    },
    {
     "name": "stdout",
     "output_type": "stream",
     "text": [
      " \n",
      "\n",
      " DNS solution has been advanced for a total of 8000*2 time steps with a dt size of 0.23009711818284617[s]\n"
     ]
    },
    {
     "name": "stderr",
     "output_type": "stream",
     "text": [
      "8000it [00:01, 4216.78it/s]\n"
     ]
    },
    {
     "name": "stdout",
     "output_type": "stream",
     "text": [
      "created Data for beta=  025 dRatio= 1.00 WaveCutOff=  8 Run27.npy\n"
     ]
    },
    {
     "name": "stderr",
     "output_type": "stream",
     "text": [
      "100%|██████████| 7999/7999 [02:00<00:00, 66.16it/s]\n"
     ]
    },
    {
     "name": "stdout",
     "output_type": "stream",
     "text": [
      " \n",
      "\n",
      " DNS solution has been advanced for a total of 8000*2 time steps with a dt size of 0.23009711818284617[s]\n"
     ]
    },
    {
     "name": "stderr",
     "output_type": "stream",
     "text": [
      "8000it [00:01, 4477.78it/s]\n"
     ]
    },
    {
     "name": "stdout",
     "output_type": "stream",
     "text": [
      "created Data for beta=  025 dRatio= 1.00 WaveCutOff=  8 Run28.npy\n"
     ]
    },
    {
     "name": "stderr",
     "output_type": "stream",
     "text": [
      "100%|██████████| 7999/7999 [01:59<00:00, 66.81it/s]\n"
     ]
    },
    {
     "name": "stdout",
     "output_type": "stream",
     "text": [
      " \n",
      "\n",
      " DNS solution has been advanced for a total of 8000*2 time steps with a dt size of 0.23009711818284617[s]\n"
     ]
    },
    {
     "name": "stderr",
     "output_type": "stream",
     "text": [
      "8000it [00:01, 4472.16it/s]\n"
     ]
    },
    {
     "name": "stdout",
     "output_type": "stream",
     "text": [
      "created Data for beta=  025 dRatio= 1.00 WaveCutOff=  8 Run29.npy\n"
     ]
    },
    {
     "name": "stderr",
     "output_type": "stream",
     "text": [
      "100%|██████████| 7999/7999 [01:59<00:00, 66.98it/s]\n"
     ]
    },
    {
     "name": "stdout",
     "output_type": "stream",
     "text": [
      " \n",
      "\n",
      " DNS solution has been advanced for a total of 8000*2 time steps with a dt size of 0.23009711818284617[s]\n"
     ]
    },
    {
     "name": "stderr",
     "output_type": "stream",
     "text": [
      "8000it [00:01, 4511.50it/s]\n"
     ]
    },
    {
     "name": "stdout",
     "output_type": "stream",
     "text": [
      "created Data for beta=  025 dRatio= 1.00 WaveCutOff=  8 Run30.npy\n"
     ]
    },
    {
     "name": "stderr",
     "output_type": "stream",
     "text": [
      "100%|██████████| 7999/7999 [02:00<00:00, 66.50it/s]\n"
     ]
    },
    {
     "name": "stdout",
     "output_type": "stream",
     "text": [
      " \n",
      "\n",
      " DNS solution has been advanced for a total of 8000*2 time steps with a dt size of 0.23009711818284617[s]\n"
     ]
    },
    {
     "name": "stderr",
     "output_type": "stream",
     "text": [
      "8000it [00:01, 4433.79it/s]\n"
     ]
    },
    {
     "name": "stdout",
     "output_type": "stream",
     "text": [
      "created Data for beta=  025 dRatio= 1.00 WaveCutOff=  8 Run31.npy\n"
     ]
    },
    {
     "name": "stderr",
     "output_type": "stream",
     "text": [
      "100%|██████████| 7999/7999 [01:59<00:00, 67.13it/s]\n"
     ]
    },
    {
     "name": "stdout",
     "output_type": "stream",
     "text": [
      " \n",
      "\n",
      " DNS solution has been advanced for a total of 8000*2 time steps with a dt size of 0.23009711818284617[s]\n"
     ]
    },
    {
     "name": "stderr",
     "output_type": "stream",
     "text": [
      "8000it [00:01, 4445.66it/s]\n"
     ]
    },
    {
     "name": "stdout",
     "output_type": "stream",
     "text": [
      "created Data for beta=  025 dRatio= 1.00 WaveCutOff=  8 Run32.npy\n"
     ]
    },
    {
     "name": "stderr",
     "output_type": "stream",
     "text": [
      "100%|██████████| 7999/7999 [02:03<00:00, 64.74it/s]\n"
     ]
    },
    {
     "name": "stdout",
     "output_type": "stream",
     "text": [
      " \n",
      "\n",
      " DNS solution has been advanced for a total of 8000*2 time steps with a dt size of 0.23009711818284617[s]\n"
     ]
    },
    {
     "name": "stderr",
     "output_type": "stream",
     "text": [
      "8000it [00:01, 4076.07it/s]\n"
     ]
    },
    {
     "name": "stdout",
     "output_type": "stream",
     "text": [
      "created Data for beta=  025 dRatio= 1.00 WaveCutOff=  8 Run33.npy\n"
     ]
    },
    {
     "name": "stderr",
     "output_type": "stream",
     "text": [
      "100%|██████████| 7999/7999 [01:59<00:00, 66.82it/s]\n"
     ]
    },
    {
     "name": "stdout",
     "output_type": "stream",
     "text": [
      " \n",
      "\n",
      " DNS solution has been advanced for a total of 8000*2 time steps with a dt size of 0.23009711818284617[s]\n"
     ]
    },
    {
     "name": "stderr",
     "output_type": "stream",
     "text": [
      "8000it [00:01, 4493.29it/s]\n"
     ]
    },
    {
     "name": "stdout",
     "output_type": "stream",
     "text": [
      "created Data for beta=  025 dRatio= 1.00 WaveCutOff=  8 Run34.npy\n"
     ]
    },
    {
     "name": "stderr",
     "output_type": "stream",
     "text": [
      "100%|██████████| 7999/7999 [02:00<00:00, 66.55it/s]\n"
     ]
    },
    {
     "name": "stdout",
     "output_type": "stream",
     "text": [
      " \n",
      "\n",
      " DNS solution has been advanced for a total of 8000*2 time steps with a dt size of 0.23009711818284617[s]\n"
     ]
    },
    {
     "name": "stderr",
     "output_type": "stream",
     "text": [
      "8000it [00:01, 4301.06it/s]\n"
     ]
    },
    {
     "name": "stdout",
     "output_type": "stream",
     "text": [
      "created Data for beta=  025 dRatio= 1.00 WaveCutOff=  8 Run35.npy\n"
     ]
    },
    {
     "name": "stderr",
     "output_type": "stream",
     "text": [
      "100%|██████████| 7999/7999 [02:00<00:00, 66.20it/s]\n"
     ]
    },
    {
     "name": "stdout",
     "output_type": "stream",
     "text": [
      " \n",
      "\n",
      " DNS solution has been advanced for a total of 8000*2 time steps with a dt size of 0.23009711818284617[s]\n"
     ]
    },
    {
     "name": "stderr",
     "output_type": "stream",
     "text": [
      "8000it [00:01, 4316.92it/s]\n"
     ]
    },
    {
     "name": "stdout",
     "output_type": "stream",
     "text": [
      "created Data for beta=  025 dRatio= 1.00 WaveCutOff=  8 Run36.npy\n"
     ]
    },
    {
     "name": "stderr",
     "output_type": "stream",
     "text": [
      "100%|██████████| 7999/7999 [02:03<00:00, 64.98it/s]\n"
     ]
    },
    {
     "name": "stdout",
     "output_type": "stream",
     "text": [
      " \n",
      "\n",
      " DNS solution has been advanced for a total of 8000*2 time steps with a dt size of 0.23009711818284617[s]\n"
     ]
    },
    {
     "name": "stderr",
     "output_type": "stream",
     "text": [
      "8000it [00:01, 4377.53it/s]\n"
     ]
    },
    {
     "name": "stdout",
     "output_type": "stream",
     "text": [
      "created Data for beta=  025 dRatio= 1.00 WaveCutOff=  8 Run37.npy\n"
     ]
    },
    {
     "name": "stderr",
     "output_type": "stream",
     "text": [
      "100%|██████████| 7999/7999 [02:02<00:00, 65.45it/s]\n"
     ]
    },
    {
     "name": "stdout",
     "output_type": "stream",
     "text": [
      " \n",
      "\n",
      " DNS solution has been advanced for a total of 8000*2 time steps with a dt size of 0.23009711818284617[s]\n"
     ]
    },
    {
     "name": "stderr",
     "output_type": "stream",
     "text": [
      "8000it [00:01, 4362.25it/s]\n"
     ]
    },
    {
     "name": "stdout",
     "output_type": "stream",
     "text": [
      "created Data for beta=  025 dRatio= 1.00 WaveCutOff=  8 Run38.npy\n"
     ]
    },
    {
     "name": "stderr",
     "output_type": "stream",
     "text": [
      "100%|██████████| 7999/7999 [02:03<00:00, 64.92it/s]\n"
     ]
    },
    {
     "name": "stdout",
     "output_type": "stream",
     "text": [
      " \n",
      "\n",
      " DNS solution has been advanced for a total of 8000*2 time steps with a dt size of 0.23009711818284617[s]\n"
     ]
    },
    {
     "name": "stderr",
     "output_type": "stream",
     "text": [
      "8000it [00:01, 4520.22it/s]\n"
     ]
    },
    {
     "name": "stdout",
     "output_type": "stream",
     "text": [
      "created Data for beta=  025 dRatio= 1.00 WaveCutOff=  8 Run39.npy\n"
     ]
    },
    {
     "name": "stderr",
     "output_type": "stream",
     "text": [
      "100%|██████████| 7999/7999 [02:01<00:00, 66.00it/s]\n"
     ]
    },
    {
     "name": "stdout",
     "output_type": "stream",
     "text": [
      " \n",
      "\n",
      " DNS solution has been advanced for a total of 8000*2 time steps with a dt size of 0.23009711818284617[s]\n"
     ]
    },
    {
     "name": "stderr",
     "output_type": "stream",
     "text": [
      "8000it [00:01, 4490.60it/s]\n"
     ]
    },
    {
     "name": "stdout",
     "output_type": "stream",
     "text": [
      "created Data for beta=  025 dRatio= 1.00 WaveCutOff=  8 Run40.npy\n"
     ]
    },
    {
     "name": "stderr",
     "output_type": "stream",
     "text": [
      "100%|██████████| 7999/7999 [02:00<00:00, 66.17it/s]\n"
     ]
    },
    {
     "name": "stdout",
     "output_type": "stream",
     "text": [
      " \n",
      "\n",
      " DNS solution has been advanced for a total of 8000*2 time steps with a dt size of 0.23009711818284617[s]\n"
     ]
    },
    {
     "name": "stderr",
     "output_type": "stream",
     "text": [
      "8000it [00:01, 4418.61it/s]\n"
     ]
    },
    {
     "name": "stdout",
     "output_type": "stream",
     "text": [
      "created Data for beta=  025 dRatio= 1.00 WaveCutOff=  8 Run41.npy\n"
     ]
    },
    {
     "name": "stderr",
     "output_type": "stream",
     "text": [
      "100%|██████████| 7999/7999 [02:00<00:00, 66.20it/s]\n"
     ]
    },
    {
     "name": "stdout",
     "output_type": "stream",
     "text": [
      " \n",
      "\n",
      " DNS solution has been advanced for a total of 8000*2 time steps with a dt size of 0.23009711818284617[s]\n"
     ]
    },
    {
     "name": "stderr",
     "output_type": "stream",
     "text": [
      "8000it [00:01, 4302.72it/s]\n"
     ]
    },
    {
     "name": "stdout",
     "output_type": "stream",
     "text": [
      "created Data for beta=  025 dRatio= 1.00 WaveCutOff=  8 Run42.npy\n"
     ]
    },
    {
     "name": "stderr",
     "output_type": "stream",
     "text": [
      "100%|██████████| 7999/7999 [02:00<00:00, 66.27it/s]\n"
     ]
    },
    {
     "name": "stdout",
     "output_type": "stream",
     "text": [
      " \n",
      "\n",
      " DNS solution has been advanced for a total of 8000*2 time steps with a dt size of 0.23009711818284617[s]\n"
     ]
    },
    {
     "name": "stderr",
     "output_type": "stream",
     "text": [
      "8000it [00:01, 4199.54it/s]\n"
     ]
    },
    {
     "name": "stdout",
     "output_type": "stream",
     "text": [
      "created Data for beta=  025 dRatio= 1.00 WaveCutOff=  8 Run43.npy\n"
     ]
    },
    {
     "name": "stderr",
     "output_type": "stream",
     "text": [
      "100%|██████████| 7999/7999 [02:02<00:00, 65.43it/s]\n"
     ]
    },
    {
     "name": "stdout",
     "output_type": "stream",
     "text": [
      " \n",
      "\n",
      " DNS solution has been advanced for a total of 8000*2 time steps with a dt size of 0.23009711818284617[s]\n"
     ]
    },
    {
     "name": "stderr",
     "output_type": "stream",
     "text": [
      "8000it [00:01, 4063.06it/s]\n"
     ]
    },
    {
     "name": "stdout",
     "output_type": "stream",
     "text": [
      "created Data for beta=  025 dRatio= 1.00 WaveCutOff=  8 Run44.npy\n"
     ]
    },
    {
     "name": "stderr",
     "output_type": "stream",
     "text": [
      "100%|██████████| 7999/7999 [02:00<00:00, 66.48it/s]\n"
     ]
    },
    {
     "name": "stdout",
     "output_type": "stream",
     "text": [
      " \n",
      "\n",
      " DNS solution has been advanced for a total of 8000*2 time steps with a dt size of 0.23009711818284617[s]\n"
     ]
    },
    {
     "name": "stderr",
     "output_type": "stream",
     "text": [
      "8000it [00:01, 4165.57it/s]\n"
     ]
    },
    {
     "name": "stdout",
     "output_type": "stream",
     "text": [
      "created Data for beta=  025 dRatio= 1.00 WaveCutOff=  8 Run45.npy\n"
     ]
    },
    {
     "name": "stderr",
     "output_type": "stream",
     "text": [
      "100%|██████████| 7999/7999 [02:00<00:00, 66.65it/s]\n"
     ]
    },
    {
     "name": "stdout",
     "output_type": "stream",
     "text": [
      " \n",
      "\n",
      " DNS solution has been advanced for a total of 8000*2 time steps with a dt size of 0.23009711818284617[s]\n"
     ]
    },
    {
     "name": "stderr",
     "output_type": "stream",
     "text": [
      "8000it [00:01, 4470.23it/s]\n"
     ]
    },
    {
     "name": "stdout",
     "output_type": "stream",
     "text": [
      "created Data for beta=  025 dRatio= 1.00 WaveCutOff=  8 Run46.npy\n"
     ]
    },
    {
     "name": "stderr",
     "output_type": "stream",
     "text": [
      "100%|██████████| 7999/7999 [02:03<00:00, 65.01it/s]\n"
     ]
    },
    {
     "name": "stdout",
     "output_type": "stream",
     "text": [
      " \n",
      "\n",
      " DNS solution has been advanced for a total of 8000*2 time steps with a dt size of 0.23009711818284617[s]\n"
     ]
    },
    {
     "name": "stderr",
     "output_type": "stream",
     "text": [
      "8000it [00:02, 3940.26it/s]\n"
     ]
    },
    {
     "name": "stdout",
     "output_type": "stream",
     "text": [
      "created Data for beta=  025 dRatio= 1.00 WaveCutOff=  8 Run47.npy\n"
     ]
    },
    {
     "name": "stderr",
     "output_type": "stream",
     "text": [
      "100%|██████████| 7999/7999 [02:02<00:00, 65.52it/s]\n"
     ]
    },
    {
     "name": "stdout",
     "output_type": "stream",
     "text": [
      " \n",
      "\n",
      " DNS solution has been advanced for a total of 8000*2 time steps with a dt size of 0.23009711818284617[s]\n"
     ]
    },
    {
     "name": "stderr",
     "output_type": "stream",
     "text": [
      "8000it [00:01, 4218.27it/s]\n"
     ]
    },
    {
     "name": "stdout",
     "output_type": "stream",
     "text": [
      "created Data for beta=  025 dRatio= 1.00 WaveCutOff=  8 Run48.npy\n"
     ]
    },
    {
     "name": "stderr",
     "output_type": "stream",
     "text": [
      "100%|██████████| 7999/7999 [02:00<00:00, 66.52it/s]\n"
     ]
    },
    {
     "name": "stdout",
     "output_type": "stream",
     "text": [
      " \n",
      "\n",
      " DNS solution has been advanced for a total of 8000*2 time steps with a dt size of 0.23009711818284617[s]\n"
     ]
    },
    {
     "name": "stderr",
     "output_type": "stream",
     "text": [
      "8000it [00:01, 4099.49it/s]\n"
     ]
    },
    {
     "name": "stdout",
     "output_type": "stream",
     "text": [
      "created Data for beta=  025 dRatio= 1.00 WaveCutOff=  8 Run49.npy\n"
     ]
    }
   ],
   "source": [
    "\n",
    "#ParentDir='/mimer/NOBACKUP/groups/ml_flame_storage/ml_2dflame/database128'        \n",
    "ParentDir='/mimer/NOBACKUP/groups/ml_flame_storage/ml_2dflame_extra/database128'        \n",
    "\n",
    "#for i in range(10,40,5):\n",
    "for i in range(25,26,5):\n",
    "#for i in range(20,21,5):\n",
    "    print(i)\n",
    "    beta=format(i, '03')\n",
    "    fullpath=(ParentDir+'/'+'beta'+beta)\n",
    "    print(fullpath)\n",
    "    if(not os.path.exists(fullpath)):\n",
    "        os.mkdir(fullpath)\n",
    "    \n",
    "    #for j in range (0,15,5):\n",
    "    for j in range (10,11,5):\n",
    "    #for j in range (0,1,5):\n",
    "        dRat=(format(j/10, '.2f'))\n",
    "    \n",
    "        fullpath=(ParentDir+'/'+'beta'+beta+'/'+'dRat'+dRat)\n",
    "        print(fullpath)\n",
    "        \n",
    "        if(not os.path.exists(fullpath)):\n",
    "            os.mkdir(fullpath)\n",
    "        \n",
    "        for k in range(50):\n",
    "            waveCutOff=8\n",
    "            \n",
    "            N=256\n",
    "            dNSkip=2\n",
    "            \n",
    "            Lpi=i #if lpi is too big and the Sim crashes: Increase resolution\n",
    "            \n",
    "            TotalSteps=8000  # 8000\n",
    "            PartialSteps=2\n",
    "            \n",
    "            dRatio=j/10\n",
    "            counter=format(k, '02')\n",
    "            \n",
    "            Solver=Siv2D(N,Lpi,dRatio,TotalSteps,PartialSteps)\n",
    "            \n",
    "            PhiHatSols=Solver.WholeSolver(waveCutOff)\n",
    "            \n",
    "            phihat_aaa =np.zeros(( Solver.nx,Solver.ny_half),dtype='complex128')\n",
    "            phiSols=np.zeros((TotalSteps,Solver.N//dNSkip,Solver.N//dNSkip),dtype=np.float32)\n",
    "            \n",
    "            for idx,  psiHat in tqdm(  enumerate(  PhiHatSols ) ):\n",
    "                phihat_aaa =np.zeros((Solver.nx,Solver.ny_half),dtype='complex128')\n",
    "                phihat_aaa[:,:] = psiHat\n",
    "                phiSols[idx,:,:]= Solver.irFFTW( phihat_aaa )[::2,::2].astype(np.float32)\n",
    "                \n",
    "            #filename = 'Run' + counter + '.h5'\n",
    "            filename='Run'+counter+'.npy'\n",
    "            np.save(os.path.join(fullpath, filename), phiSols)\n",
    "\n",
    "            print('created Data for beta= ', beta, 'dRatio=', dRat, 'WaveCutOff= ', waveCutOff, filename )\n",
    "            \n",
    "                    "
   ]
  },
  {
   "cell_type": "code",
   "execution_count": null,
   "id": "062e2e6a-2564-4fd3-abfa-f576e7c4d176",
   "metadata": {},
   "outputs": [],
   "source": [
    "#np.any( np.isnan( phiSols) )\n"
   ]
  },
  {
   "cell_type": "code",
   "execution_count": 23,
   "id": "704aa0f9-0c02-4848-b4fa-94f7169ac84f",
   "metadata": {},
   "outputs": [
    {
     "data": {
      "image/png": "[encoded data removed]",
      "text/plain": [
       "<Figure size 640x480 with 2 Axes>"
      ]
     },
     "metadata": {},
     "output_type": "display_data"
    }
   ],
   "source": [
    "%matplotlib inline\n",
    "fig,axs=plt.subplots(1,2,)\n",
    "axs[0].imshow( phiSols[100,:,:] )\n",
    "axs[1].imshow( phiSols[5800,:,:] ) #-1\n",
    "plt.show()"
   ]
  },
  {
   "cell_type": "code",
   "execution_count": null,
   "id": "bca482c6-af64-41f8-b611-209cf27f6786",
   "metadata": {},
   "outputs": [],
   "source": [
    "\n"
   ]
  },
  {
   "cell_type": "code",
   "execution_count": null,
   "id": "cd4bd021-388b-44db-bdc6-11bad12fb3d2",
   "metadata": {},
   "outputs": [],
   "source": [
    "#N=256\n",
    "#Lpi=10 #if lpi is too big and the Sim crashes: Increase resolution\n",
    "#TotalSteps=100\n",
    "#PartialSteps=4\n",
    "#dRatio=0.2\n",
    "#Solver=Siv2D(N,Lpi,dRatio,TotalSteps,PartialSteps)\n",
    "#PhiHatSols=Solver.WholeSolver(8)\n",
    "#phiSols=np.zeros((TotalSteps,Solver.N,Solver.N),dtype=np.float32)\n",
    "#for idx,  psiHat in tqdm(  enumerate(  PhiHatSols ) ):\n",
    "#    phihat_aaa[:,:] = psiHat\n",
    "#    phiSols[idx,:,:]=Solver.irFFTW( phihat_aaa ).astype(np.float32)"
   ]
  },
  {
   "cell_type": "code",
   "execution_count": null,
   "id": "bb618101-82e1-459f-8321-1260dbebe8f1",
   "metadata": {},
   "outputs": [],
   "source": []
  },
  {
   "cell_type": "code",
   "execution_count": null,
   "id": "d940633b-8940-4415-8d7d-a02fc203bfb9",
   "metadata": {},
   "outputs": [],
   "source": [
    "fig = plt.figure(figsize = (4,4))\n",
    "ax = fig.add_subplot()\n",
    "plt.close()\n",
    "#-----\n",
    "\n",
    "def update_plt(i):\n",
    "\n",
    "    ax.clear()\n",
    "    # Reduce the animation size by showing a small portion of pixels (Colab will complain)\n",
    "    ax.imshow( phiSols[ i, :,:] , cmap = 'jet')\n",
    "\n",
    "    ax.set_title( ' t_step ={}'.format(i)   )\n",
    "    return ax\n",
    "#----------------\n",
    "import matplotlib\n",
    "from matplotlib import rc\n",
    "matplotlib.rcParams['animation.embed_limit'] = 2**128\n",
    "import matplotlib.animation as animation\n",
    "rc('animation', html='jshtml')\n",
    "#print(TotalSteps)\n",
    "ani = animation.FuncAnimation(fig=fig, func=update_plt, frames=TotalSteps, interval=150)\n",
    "ani"
   ]
  },
  {
   "cell_type": "code",
   "execution_count": null,
   "id": "90962cad-54ec-485b-b178-98703219d502",
   "metadata": {},
   "outputs": [],
   "source": [
    "phiSols.dtype"
   ]
  },
  {
   "cell_type": "code",
   "execution_count": null,
   "id": "50eb003a-7825-45b3-8494-afaf42d7ad42",
   "metadata": {},
   "outputs": [],
   "source": []
  }
 ],
 "metadata": {
  "kernelspec": {
   "display_name": "Python 3 (ipykernel)",
   "language": "python",
   "name": "python3"
  },
  "language_info": {
   "codemirror_mode": {
    "name": "ipython",
    "version": 3
   },
   "file_extension": ".py",
   "mimetype": "text/x-python",
   "name": "python",
   "nbconvert_exporter": "python",
   "pygments_lexer": "ipython3",
   "version": "3.10.4"
  }
 },
 "nbformat": 4,
 "nbformat_minor": 5
}
